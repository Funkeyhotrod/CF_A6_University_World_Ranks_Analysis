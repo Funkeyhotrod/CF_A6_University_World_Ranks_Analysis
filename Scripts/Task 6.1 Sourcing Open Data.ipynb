{
 "cells": [
  {
   "cell_type": "code",
   "execution_count": 1,
   "id": "d01b9725-2eaa-48bc-90c8-cb38a3ce9236",
   "metadata": {},
   "outputs": [],
   "source": [
    "import pandas as pd\n",
    "import numpy as np\n",
    "import os"
   ]
  },
  {
   "cell_type": "code",
   "execution_count": 3,
   "id": "35e20cfe-0032-4920-a897-9ec3f241c50d",
   "metadata": {},
   "outputs": [],
   "source": [
    "path = r'C:\\Users\\aaron\\Downloads\\archive'"
   ]
  },
  {
   "cell_type": "code",
   "execution_count": 5,
   "id": "88eb31b4-cce7-4bdf-98aa-8a449cdf4c78",
   "metadata": {},
   "outputs": [],
   "source": [
    "df = pd.read_csv(os.path.join(path, 'cwurData.csv'), index_col = False)"
   ]
  },
  {
   "cell_type": "code",
   "execution_count": 7,
   "id": "12d36f66-c159-4a09-bcc2-6c2edc6931fe",
   "metadata": {},
   "outputs": [
    {
     "data": {
      "text/plain": [
       "(2200, 14)"
      ]
     },
     "execution_count": 7,
     "metadata": {},
     "output_type": "execute_result"
    }
   ],
   "source": [
    "df.shape"
   ]
  },
  {
   "cell_type": "code",
   "execution_count": 9,
   "id": "7f519f9b-32f9-490b-adee-5c409cd8c239",
   "metadata": {},
   "outputs": [
    {
     "data": {
      "text/plain": [
       "Index(['world_rank', 'institution', 'country', 'national_rank',\n",
       "       'quality_of_education', 'alumni_employment', 'quality_of_faculty',\n",
       "       'publications', 'influence', 'citations', 'broad_impact', 'patents',\n",
       "       'score', 'year'],\n",
       "      dtype='object')"
      ]
     },
     "execution_count": 9,
     "metadata": {},
     "output_type": "execute_result"
    }
   ],
   "source": [
    "df.columns"
   ]
  },
  {
   "cell_type": "markdown",
   "id": "2c67d746-3f0d-4949-9c7f-cb65aa1c5c87",
   "metadata": {},
   "source": [
    " "
   ]
  },
  {
   "cell_type": "markdown",
   "id": "612d5640-f9a2-4621-9316-6bdcb40bbefc",
   "metadata": {},
   "source": [
    "Dropping Unnecessary Columns"
   ]
  },
  {
   "cell_type": "code",
   "execution_count": 14,
   "id": "2fb98437-cf9e-42fa-9c4b-00afc365fef1",
   "metadata": {},
   "outputs": [],
   "source": [
    "df = df.drop(columns = ['broad_impact'])"
   ]
  },
  {
   "cell_type": "code",
   "execution_count": 16,
   "id": "30265c5c-e037-4419-8087-028c11e641f0",
   "metadata": {},
   "outputs": [
    {
     "data": {
      "text/plain": [
       "(2200, 13)"
      ]
     },
     "execution_count": 16,
     "metadata": {},
     "output_type": "execute_result"
    }
   ],
   "source": [
    "df.shape"
   ]
  },
  {
   "cell_type": "markdown",
   "id": "f6e1ae6b-ca56-429e-a85d-1c24e5185b28",
   "metadata": {},
   "source": [
    " "
   ]
  },
  {
   "cell_type": "markdown",
   "id": "15667476-008d-4a67-90a1-ba691ec6a80c",
   "metadata": {},
   "source": [
    "Renaming Columns to make them easier to understand"
   ]
  },
  {
   "cell_type": "code",
   "execution_count": 20,
   "id": "5f03b7a3-2426-49ba-aeb2-fee3ea4555b7",
   "metadata": {},
   "outputs": [],
   "source": [
    "df.rename(columns = {'quality_of_education' : 'rank_for_education'}, inplace = True)"
   ]
  },
  {
   "cell_type": "code",
   "execution_count": 22,
   "id": "a5289ef4-aa1d-4deb-8d94-e87b374c5df0",
   "metadata": {},
   "outputs": [],
   "source": [
    "df.rename(columns = {'alumni_employment' : 'rank_for_alumni_employment'}, inplace = True)"
   ]
  },
  {
   "cell_type": "code",
   "execution_count": 24,
   "id": "33ce8257-1d5b-48c5-b5d6-276525a0da6f",
   "metadata": {},
   "outputs": [],
   "source": [
    "df.rename(columns = {'quality_of_faculty' : 'rank_for_faculty'}, inplace = True)"
   ]
  },
  {
   "cell_type": "code",
   "execution_count": 26,
   "id": "b88253b3-dab0-4fec-bbd4-f05810fcb976",
   "metadata": {},
   "outputs": [],
   "source": [
    "df.rename(columns = {'publications' : 'rank_for_publications'}, inplace = True)"
   ]
  },
  {
   "cell_type": "code",
   "execution_count": 28,
   "id": "26f7270e-60ce-4ee6-b4f1-64bfb3cc651b",
   "metadata": {},
   "outputs": [],
   "source": [
    "df.rename(columns = {'influence' : 'rank_for_influence'}, inplace = True)"
   ]
  },
  {
   "cell_type": "code",
   "execution_count": 30,
   "id": "142aea33-104e-47c2-a33a-6adea3af2405",
   "metadata": {},
   "outputs": [],
   "source": [
    "df.rename(columns = {'citations' : 'rank_for_number_of_students'}, inplace = True)"
   ]
  },
  {
   "cell_type": "code",
   "execution_count": 32,
   "id": "970fd609-23b9-4a65-a2f6-7b958d46570b",
   "metadata": {},
   "outputs": [],
   "source": [
    "df.rename(columns = {'patents' : 'rank_for_patents'}, inplace = True)"
   ]
  },
  {
   "cell_type": "code",
   "execution_count": 34,
   "id": "83f473b7-7f0f-48f1-a65f-e2365128f84d",
   "metadata": {},
   "outputs": [
    {
     "data": {
      "text/plain": [
       "Index(['world_rank', 'institution', 'country', 'national_rank',\n",
       "       'rank_for_education', 'rank_for_alumni_employment', 'rank_for_faculty',\n",
       "       'rank_for_publications', 'rank_for_influence',\n",
       "       'rank_for_number_of_students', 'rank_for_patents', 'score', 'year'],\n",
       "      dtype='object')"
      ]
     },
     "execution_count": 34,
     "metadata": {},
     "output_type": "execute_result"
    }
   ],
   "source": [
    "df.columns"
   ]
  },
  {
   "cell_type": "markdown",
   "id": "ffa09c3c-c779-485d-91fe-e5861ed4ef86",
   "metadata": {},
   "source": [
    " "
   ]
  },
  {
   "cell_type": "markdown",
   "id": "d554bef1-28f4-4716-ac63-2e6f0f81a12d",
   "metadata": {},
   "source": [
    "Checking for missing values"
   ]
  },
  {
   "cell_type": "code",
   "execution_count": 38,
   "id": "292cd5de-b1a7-4358-8d5b-943506b6a782",
   "metadata": {},
   "outputs": [
    {
     "data": {
      "text/plain": [
       "world_rank                     0\n",
       "institution                    0\n",
       "country                        0\n",
       "national_rank                  0\n",
       "rank_for_education             0\n",
       "rank_for_alumni_employment     0\n",
       "rank_for_faculty               0\n",
       "rank_for_publications          0\n",
       "rank_for_influence             0\n",
       "rank_for_number_of_students    0\n",
       "rank_for_patents               0\n",
       "score                          0\n",
       "year                           0\n",
       "dtype: int64"
      ]
     },
     "execution_count": 38,
     "metadata": {},
     "output_type": "execute_result"
    }
   ],
   "source": [
    "df.isnull().sum()"
   ]
  },
  {
   "cell_type": "markdown",
   "id": "e9e44b41-9235-4f9e-8a2c-543f6499a05a",
   "metadata": {},
   "source": [
    " "
   ]
  },
  {
   "cell_type": "markdown",
   "id": "2d354de9-4a61-49e1-aeb0-0e628dae0fa5",
   "metadata": {},
   "source": [
    "Checking for duplicated rows"
   ]
  },
  {
   "cell_type": "code",
   "execution_count": 42,
   "id": "54811e12-c5ed-4ef9-988e-655665bf5397",
   "metadata": {},
   "outputs": [],
   "source": [
    "df_dups = df[df.duplicated()]"
   ]
  },
  {
   "cell_type": "code",
   "execution_count": 44,
   "id": "bfa06b74-67b7-4b12-be01-79eb55af0a8d",
   "metadata": {},
   "outputs": [
    {
     "data": {
      "text/html": [
       "<div>\n",
       "<style scoped>\n",
       "    .dataframe tbody tr th:only-of-type {\n",
       "        vertical-align: middle;\n",
       "    }\n",
       "\n",
       "    .dataframe tbody tr th {\n",
       "        vertical-align: top;\n",
       "    }\n",
       "\n",
       "    .dataframe thead th {\n",
       "        text-align: right;\n",
       "    }\n",
       "</style>\n",
       "<table border=\"1\" class=\"dataframe\">\n",
       "  <thead>\n",
       "    <tr style=\"text-align: right;\">\n",
       "      <th></th>\n",
       "      <th>world_rank</th>\n",
       "      <th>institution</th>\n",
       "      <th>country</th>\n",
       "      <th>national_rank</th>\n",
       "      <th>rank_for_education</th>\n",
       "      <th>rank_for_alumni_employment</th>\n",
       "      <th>rank_for_faculty</th>\n",
       "      <th>rank_for_publications</th>\n",
       "      <th>rank_for_influence</th>\n",
       "      <th>rank_for_number_of_students</th>\n",
       "      <th>rank_for_patents</th>\n",
       "      <th>score</th>\n",
       "      <th>year</th>\n",
       "    </tr>\n",
       "  </thead>\n",
       "  <tbody>\n",
       "  </tbody>\n",
       "</table>\n",
       "</div>"
      ],
      "text/plain": [
       "Empty DataFrame\n",
       "Columns: [world_rank, institution, country, national_rank, rank_for_education, rank_for_alumni_employment, rank_for_faculty, rank_for_publications, rank_for_influence, rank_for_number_of_students, rank_for_patents, score, year]\n",
       "Index: []"
      ]
     },
     "execution_count": 44,
     "metadata": {},
     "output_type": "execute_result"
    }
   ],
   "source": [
    "df_dups"
   ]
  },
  {
   "cell_type": "markdown",
   "id": "cfa6e629-5364-4054-bf68-98dc4b0a4761",
   "metadata": {},
   "source": [
    " "
   ]
  },
  {
   "cell_type": "markdown",
   "id": "98ff2edc-d76a-4a6c-9665-9c6473d09d98",
   "metadata": {},
   "source": [
    "Descriptive Statistics"
   ]
  },
  {
   "cell_type": "code",
   "execution_count": 48,
   "id": "ac7632b8-f830-4559-9725-a77c7c515578",
   "metadata": {},
   "outputs": [
    {
     "data": {
      "text/html": [
       "<div>\n",
       "<style scoped>\n",
       "    .dataframe tbody tr th:only-of-type {\n",
       "        vertical-align: middle;\n",
       "    }\n",
       "\n",
       "    .dataframe tbody tr th {\n",
       "        vertical-align: top;\n",
       "    }\n",
       "\n",
       "    .dataframe thead th {\n",
       "        text-align: right;\n",
       "    }\n",
       "</style>\n",
       "<table border=\"1\" class=\"dataframe\">\n",
       "  <thead>\n",
       "    <tr style=\"text-align: right;\">\n",
       "      <th></th>\n",
       "      <th>world_rank</th>\n",
       "      <th>national_rank</th>\n",
       "      <th>rank_for_education</th>\n",
       "      <th>rank_for_alumni_employment</th>\n",
       "      <th>rank_for_faculty</th>\n",
       "      <th>rank_for_publications</th>\n",
       "      <th>rank_for_influence</th>\n",
       "      <th>rank_for_number_of_students</th>\n",
       "      <th>rank_for_patents</th>\n",
       "      <th>score</th>\n",
       "      <th>year</th>\n",
       "    </tr>\n",
       "  </thead>\n",
       "  <tbody>\n",
       "    <tr>\n",
       "      <th>count</th>\n",
       "      <td>2200.000000</td>\n",
       "      <td>2200.000000</td>\n",
       "      <td>2200.000000</td>\n",
       "      <td>2200.000000</td>\n",
       "      <td>2200.000000</td>\n",
       "      <td>2200.000000</td>\n",
       "      <td>2200.000000</td>\n",
       "      <td>2200.000000</td>\n",
       "      <td>2200.000000</td>\n",
       "      <td>2200.000000</td>\n",
       "      <td>2200.000000</td>\n",
       "    </tr>\n",
       "    <tr>\n",
       "      <th>mean</th>\n",
       "      <td>459.590909</td>\n",
       "      <td>40.278182</td>\n",
       "      <td>275.100455</td>\n",
       "      <td>357.116818</td>\n",
       "      <td>178.888182</td>\n",
       "      <td>459.908636</td>\n",
       "      <td>459.797727</td>\n",
       "      <td>413.417273</td>\n",
       "      <td>433.346364</td>\n",
       "      <td>47.798395</td>\n",
       "      <td>2014.318182</td>\n",
       "    </tr>\n",
       "    <tr>\n",
       "      <th>std</th>\n",
       "      <td>304.320363</td>\n",
       "      <td>51.740870</td>\n",
       "      <td>121.935100</td>\n",
       "      <td>186.779252</td>\n",
       "      <td>64.050885</td>\n",
       "      <td>303.760352</td>\n",
       "      <td>303.331822</td>\n",
       "      <td>264.366549</td>\n",
       "      <td>273.996525</td>\n",
       "      <td>7.760806</td>\n",
       "      <td>0.762130</td>\n",
       "    </tr>\n",
       "    <tr>\n",
       "      <th>min</th>\n",
       "      <td>1.000000</td>\n",
       "      <td>1.000000</td>\n",
       "      <td>1.000000</td>\n",
       "      <td>1.000000</td>\n",
       "      <td>1.000000</td>\n",
       "      <td>1.000000</td>\n",
       "      <td>1.000000</td>\n",
       "      <td>1.000000</td>\n",
       "      <td>1.000000</td>\n",
       "      <td>43.360000</td>\n",
       "      <td>2012.000000</td>\n",
       "    </tr>\n",
       "    <tr>\n",
       "      <th>25%</th>\n",
       "      <td>175.750000</td>\n",
       "      <td>6.000000</td>\n",
       "      <td>175.750000</td>\n",
       "      <td>175.750000</td>\n",
       "      <td>175.750000</td>\n",
       "      <td>175.750000</td>\n",
       "      <td>175.750000</td>\n",
       "      <td>161.000000</td>\n",
       "      <td>170.750000</td>\n",
       "      <td>44.460000</td>\n",
       "      <td>2014.000000</td>\n",
       "    </tr>\n",
       "    <tr>\n",
       "      <th>50%</th>\n",
       "      <td>450.500000</td>\n",
       "      <td>21.000000</td>\n",
       "      <td>355.000000</td>\n",
       "      <td>450.500000</td>\n",
       "      <td>210.000000</td>\n",
       "      <td>450.500000</td>\n",
       "      <td>450.500000</td>\n",
       "      <td>406.000000</td>\n",
       "      <td>426.000000</td>\n",
       "      <td>45.100000</td>\n",
       "      <td>2014.000000</td>\n",
       "    </tr>\n",
       "    <tr>\n",
       "      <th>75%</th>\n",
       "      <td>725.250000</td>\n",
       "      <td>49.000000</td>\n",
       "      <td>367.000000</td>\n",
       "      <td>478.000000</td>\n",
       "      <td>218.000000</td>\n",
       "      <td>725.000000</td>\n",
       "      <td>725.250000</td>\n",
       "      <td>645.000000</td>\n",
       "      <td>714.250000</td>\n",
       "      <td>47.545000</td>\n",
       "      <td>2015.000000</td>\n",
       "    </tr>\n",
       "    <tr>\n",
       "      <th>max</th>\n",
       "      <td>1000.000000</td>\n",
       "      <td>229.000000</td>\n",
       "      <td>367.000000</td>\n",
       "      <td>567.000000</td>\n",
       "      <td>218.000000</td>\n",
       "      <td>1000.000000</td>\n",
       "      <td>991.000000</td>\n",
       "      <td>812.000000</td>\n",
       "      <td>871.000000</td>\n",
       "      <td>100.000000</td>\n",
       "      <td>2015.000000</td>\n",
       "    </tr>\n",
       "  </tbody>\n",
       "</table>\n",
       "</div>"
      ],
      "text/plain": [
       "        world_rank  national_rank  rank_for_education  \\\n",
       "count  2200.000000    2200.000000         2200.000000   \n",
       "mean    459.590909      40.278182          275.100455   \n",
       "std     304.320363      51.740870          121.935100   \n",
       "min       1.000000       1.000000            1.000000   \n",
       "25%     175.750000       6.000000          175.750000   \n",
       "50%     450.500000      21.000000          355.000000   \n",
       "75%     725.250000      49.000000          367.000000   \n",
       "max    1000.000000     229.000000          367.000000   \n",
       "\n",
       "       rank_for_alumni_employment  rank_for_faculty  rank_for_publications  \\\n",
       "count                 2200.000000       2200.000000            2200.000000   \n",
       "mean                   357.116818        178.888182             459.908636   \n",
       "std                    186.779252         64.050885             303.760352   \n",
       "min                      1.000000          1.000000               1.000000   \n",
       "25%                    175.750000        175.750000             175.750000   \n",
       "50%                    450.500000        210.000000             450.500000   \n",
       "75%                    478.000000        218.000000             725.000000   \n",
       "max                    567.000000        218.000000            1000.000000   \n",
       "\n",
       "       rank_for_influence  rank_for_number_of_students  rank_for_patents  \\\n",
       "count         2200.000000                  2200.000000       2200.000000   \n",
       "mean           459.797727                   413.417273        433.346364   \n",
       "std            303.331822                   264.366549        273.996525   \n",
       "min              1.000000                     1.000000          1.000000   \n",
       "25%            175.750000                   161.000000        170.750000   \n",
       "50%            450.500000                   406.000000        426.000000   \n",
       "75%            725.250000                   645.000000        714.250000   \n",
       "max            991.000000                   812.000000        871.000000   \n",
       "\n",
       "             score         year  \n",
       "count  2200.000000  2200.000000  \n",
       "mean     47.798395  2014.318182  \n",
       "std       7.760806     0.762130  \n",
       "min      43.360000  2012.000000  \n",
       "25%      44.460000  2014.000000  \n",
       "50%      45.100000  2014.000000  \n",
       "75%      47.545000  2015.000000  \n",
       "max     100.000000  2015.000000  "
      ]
     },
     "execution_count": 48,
     "metadata": {},
     "output_type": "execute_result"
    }
   ],
   "source": [
    "df.describe()"
   ]
  },
  {
   "cell_type": "markdown",
   "id": "a2fb7f39-18ef-48df-a811-6a2e0561b185",
   "metadata": {},
   "source": [
    " "
   ]
  },
  {
   "cell_type": "markdown",
   "id": "a18c8603-c126-498b-9c52-063cb19478b6",
   "metadata": {},
   "source": [
    "Exporting data"
   ]
  },
  {
   "cell_type": "code",
   "execution_count": 55,
   "id": "3fec96a3-6445-4748-8dcc-6f921f9d2a35",
   "metadata": {},
   "outputs": [],
   "source": [
    "df.to_csv(os.path.join(path, 'A6_Data.csv'))"
   ]
  },
  {
   "cell_type": "code",
   "execution_count": null,
   "id": "8e1704ee-00c5-40ec-b136-3eaffcfbb921",
   "metadata": {},
   "outputs": [],
   "source": []
  }
 ],
 "metadata": {
  "kernelspec": {
   "display_name": "Python [conda env:base] *",
   "language": "python",
   "name": "conda-base-py"
  },
  "language_info": {
   "codemirror_mode": {
    "name": "ipython",
    "version": 3
   },
   "file_extension": ".py",
   "mimetype": "text/x-python",
   "name": "python",
   "nbconvert_exporter": "python",
   "pygments_lexer": "ipython3",
   "version": "3.12.7"
  }
 },
 "nbformat": 4,
 "nbformat_minor": 5
}
