{
 "cells": [
  {
   "cell_type": "code",
   "execution_count": 1,
   "id": "fada8df9-5d3f-4485-aba9-6964a186991a",
   "metadata": {},
   "outputs": [],
   "source": [
    "import pandas as pd\n",
    "import numpy as np\n",
    "import seaborn as sns\n",
    "import matplotlib\n",
    "import matplotlib.pyplot as plt\n",
    "import statsmodels.api as sm\n",
    "import os\n",
    "import warnings\n",
    "\n",
    "warnings.filterwarnings(\"ignore\")\n",
    "plt.style.use('fivethirtyeight')"
   ]
  },
  {
   "cell_type": "code",
   "execution_count": 3,
   "id": "32e5e8b5-d15e-4cc8-83ea-30750b4c074b",
   "metadata": {},
   "outputs": [],
   "source": [
    "path = r'C:\\Users\\aaron\\Downloads\\archive'"
   ]
  },
  {
   "cell_type": "code",
   "execution_count": 5,
   "id": "a92e5183-9a76-49d8-843a-f461732a25fd",
   "metadata": {},
   "outputs": [],
   "source": [
    "df = pd.read_csv(os.path.join(path, 'A6_Data.csv'), index_col = False)"
   ]
  },
  {
   "cell_type": "code",
   "execution_count": 7,
   "id": "62bddd24-db06-4ae5-a5d0-57625c5b1956",
   "metadata": {},
   "outputs": [],
   "source": [
    "df = df.drop(columns = ['Unnamed: 0'])"
   ]
  },
  {
   "cell_type": "markdown",
   "id": "eaf838f3-ed85-4b04-b320-766cd2af4492",
   "metadata": {},
   "source": [
    " "
   ]
  },
  {
   "cell_type": "markdown",
   "id": "f8c686ef-ba65-4333-9a78-999e2851923e",
   "metadata": {},
   "source": [
    "## Part 3"
   ]
  },
  {
   "cell_type": "code",
   "execution_count": 11,
   "id": "344dd9b6-a9f5-4233-ab2c-7a818072927e",
   "metadata": {},
   "outputs": [
    {
     "data": {
      "text/html": [
       "<div>\n",
       "<style scoped>\n",
       "    .dataframe tbody tr th:only-of-type {\n",
       "        vertical-align: middle;\n",
       "    }\n",
       "\n",
       "    .dataframe tbody tr th {\n",
       "        vertical-align: top;\n",
       "    }\n",
       "\n",
       "    .dataframe thead th {\n",
       "        text-align: right;\n",
       "    }\n",
       "</style>\n",
       "<table border=\"1\" class=\"dataframe\">\n",
       "  <thead>\n",
       "    <tr style=\"text-align: right;\">\n",
       "      <th></th>\n",
       "      <th>world_rank</th>\n",
       "      <th>institution</th>\n",
       "      <th>country</th>\n",
       "      <th>national_rank</th>\n",
       "      <th>rank_for_education</th>\n",
       "      <th>rank_for_alumni_employment</th>\n",
       "      <th>rank_for_faculty</th>\n",
       "      <th>rank_for_publications</th>\n",
       "      <th>rank_for_influence</th>\n",
       "      <th>rank_for_number_of_students</th>\n",
       "      <th>rank_for_patents</th>\n",
       "      <th>average_rank</th>\n",
       "      <th>score</th>\n",
       "      <th>year</th>\n",
       "    </tr>\n",
       "  </thead>\n",
       "  <tbody>\n",
       "    <tr>\n",
       "      <th>0</th>\n",
       "      <td>1</td>\n",
       "      <td>Harvard University</td>\n",
       "      <td>USA</td>\n",
       "      <td>1</td>\n",
       "      <td>7</td>\n",
       "      <td>9</td>\n",
       "      <td>1</td>\n",
       "      <td>1</td>\n",
       "      <td>1</td>\n",
       "      <td>1</td>\n",
       "      <td>5</td>\n",
       "      <td>3.57</td>\n",
       "      <td>100.00</td>\n",
       "      <td>2012</td>\n",
       "    </tr>\n",
       "    <tr>\n",
       "      <th>1</th>\n",
       "      <td>2</td>\n",
       "      <td>Massachusetts Institute of Technology</td>\n",
       "      <td>USA</td>\n",
       "      <td>2</td>\n",
       "      <td>9</td>\n",
       "      <td>17</td>\n",
       "      <td>3</td>\n",
       "      <td>12</td>\n",
       "      <td>4</td>\n",
       "      <td>4</td>\n",
       "      <td>1</td>\n",
       "      <td>7.14</td>\n",
       "      <td>91.67</td>\n",
       "      <td>2012</td>\n",
       "    </tr>\n",
       "    <tr>\n",
       "      <th>2</th>\n",
       "      <td>3</td>\n",
       "      <td>Stanford University</td>\n",
       "      <td>USA</td>\n",
       "      <td>3</td>\n",
       "      <td>17</td>\n",
       "      <td>11</td>\n",
       "      <td>5</td>\n",
       "      <td>4</td>\n",
       "      <td>2</td>\n",
       "      <td>2</td>\n",
       "      <td>15</td>\n",
       "      <td>8.00</td>\n",
       "      <td>89.50</td>\n",
       "      <td>2012</td>\n",
       "    </tr>\n",
       "    <tr>\n",
       "      <th>3</th>\n",
       "      <td>4</td>\n",
       "      <td>University of Cambridge</td>\n",
       "      <td>United Kingdom</td>\n",
       "      <td>1</td>\n",
       "      <td>10</td>\n",
       "      <td>24</td>\n",
       "      <td>4</td>\n",
       "      <td>16</td>\n",
       "      <td>16</td>\n",
       "      <td>11</td>\n",
       "      <td>50</td>\n",
       "      <td>18.71</td>\n",
       "      <td>86.17</td>\n",
       "      <td>2012</td>\n",
       "    </tr>\n",
       "    <tr>\n",
       "      <th>4</th>\n",
       "      <td>5</td>\n",
       "      <td>California Institute of Technology</td>\n",
       "      <td>USA</td>\n",
       "      <td>4</td>\n",
       "      <td>2</td>\n",
       "      <td>29</td>\n",
       "      <td>7</td>\n",
       "      <td>37</td>\n",
       "      <td>22</td>\n",
       "      <td>22</td>\n",
       "      <td>18</td>\n",
       "      <td>19.57</td>\n",
       "      <td>85.21</td>\n",
       "      <td>2012</td>\n",
       "    </tr>\n",
       "  </tbody>\n",
       "</table>\n",
       "</div>"
      ],
      "text/plain": [
       "   world_rank                            institution         country  \\\n",
       "0           1                     Harvard University             USA   \n",
       "1           2  Massachusetts Institute of Technology             USA   \n",
       "2           3                    Stanford University             USA   \n",
       "3           4                University of Cambridge  United Kingdom   \n",
       "4           5     California Institute of Technology             USA   \n",
       "\n",
       "   national_rank  rank_for_education  rank_for_alumni_employment  \\\n",
       "0              1                   7                           9   \n",
       "1              2                   9                          17   \n",
       "2              3                  17                          11   \n",
       "3              1                  10                          24   \n",
       "4              4                   2                          29   \n",
       "\n",
       "   rank_for_faculty  rank_for_publications  rank_for_influence  \\\n",
       "0                 1                      1                   1   \n",
       "1                 3                     12                   4   \n",
       "2                 5                      4                   2   \n",
       "3                 4                     16                  16   \n",
       "4                 7                     37                  22   \n",
       "\n",
       "   rank_for_number_of_students  rank_for_patents  average_rank   score  year  \n",
       "0                            1                 5          3.57  100.00  2012  \n",
       "1                            4                 1          7.14   91.67  2012  \n",
       "2                            2                15          8.00   89.50  2012  \n",
       "3                           11                50         18.71   86.17  2012  \n",
       "4                           22                18         19.57   85.21  2012  "
      ]
     },
     "execution_count": 11,
     "metadata": {},
     "output_type": "execute_result"
    }
   ],
   "source": [
    "df.head()"
   ]
  },
  {
   "cell_type": "code",
   "execution_count": 13,
   "id": "435afaba-3928-4ac4-8ec7-2f2b6a08bdbf",
   "metadata": {},
   "outputs": [],
   "source": [
    "# Making a subset\n",
    "df_sub = df.loc[df['institution'] == 'University of Washington - Seattle']"
   ]
  },
  {
   "cell_type": "code",
   "execution_count": 15,
   "id": "3a90bb96-f69a-4d21-8aef-72b82b849dea",
   "metadata": {},
   "outputs": [
    {
     "data": {
      "text/html": [
       "<div>\n",
       "<style scoped>\n",
       "    .dataframe tbody tr th:only-of-type {\n",
       "        vertical-align: middle;\n",
       "    }\n",
       "\n",
       "    .dataframe tbody tr th {\n",
       "        vertical-align: top;\n",
       "    }\n",
       "\n",
       "    .dataframe thead th {\n",
       "        text-align: right;\n",
       "    }\n",
       "</style>\n",
       "<table border=\"1\" class=\"dataframe\">\n",
       "  <thead>\n",
       "    <tr style=\"text-align: right;\">\n",
       "      <th></th>\n",
       "      <th>world_rank</th>\n",
       "      <th>institution</th>\n",
       "      <th>country</th>\n",
       "      <th>national_rank</th>\n",
       "      <th>rank_for_education</th>\n",
       "      <th>rank_for_alumni_employment</th>\n",
       "      <th>rank_for_faculty</th>\n",
       "      <th>rank_for_publications</th>\n",
       "      <th>rank_for_influence</th>\n",
       "      <th>rank_for_number_of_students</th>\n",
       "      <th>rank_for_patents</th>\n",
       "      <th>average_rank</th>\n",
       "      <th>score</th>\n",
       "      <th>year</th>\n",
       "    </tr>\n",
       "  </thead>\n",
       "  <tbody>\n",
       "    <tr>\n",
       "      <th>38</th>\n",
       "      <td>39</td>\n",
       "      <td>University of Washington - Seattle</td>\n",
       "      <td>USA</td>\n",
       "      <td>28</td>\n",
       "      <td>101</td>\n",
       "      <td>101</td>\n",
       "      <td>40</td>\n",
       "      <td>5</td>\n",
       "      <td>7</td>\n",
       "      <td>5</td>\n",
       "      <td>101</td>\n",
       "      <td>51.43</td>\n",
       "      <td>52.25</td>\n",
       "      <td>2012</td>\n",
       "    </tr>\n",
       "    <tr>\n",
       "      <th>130</th>\n",
       "      <td>31</td>\n",
       "      <td>University of Washington - Seattle</td>\n",
       "      <td>USA</td>\n",
       "      <td>22</td>\n",
       "      <td>101</td>\n",
       "      <td>101</td>\n",
       "      <td>41</td>\n",
       "      <td>7</td>\n",
       "      <td>8</td>\n",
       "      <td>5</td>\n",
       "      <td>51</td>\n",
       "      <td>44.86</td>\n",
       "      <td>55.79</td>\n",
       "      <td>2013</td>\n",
       "    </tr>\n",
       "    <tr>\n",
       "      <th>231</th>\n",
       "      <td>32</td>\n",
       "      <td>University of Washington - Seattle</td>\n",
       "      <td>USA</td>\n",
       "      <td>23</td>\n",
       "      <td>89</td>\n",
       "      <td>107</td>\n",
       "      <td>46</td>\n",
       "      <td>9</td>\n",
       "      <td>11</td>\n",
       "      <td>8</td>\n",
       "      <td>54</td>\n",
       "      <td>46.29</td>\n",
       "      <td>60.28</td>\n",
       "      <td>2014</td>\n",
       "    </tr>\n",
       "    <tr>\n",
       "      <th>1230</th>\n",
       "      <td>31</td>\n",
       "      <td>University of Washington - Seattle</td>\n",
       "      <td>USA</td>\n",
       "      <td>23</td>\n",
       "      <td>48</td>\n",
       "      <td>103</td>\n",
       "      <td>41</td>\n",
       "      <td>9</td>\n",
       "      <td>10</td>\n",
       "      <td>10</td>\n",
       "      <td>40</td>\n",
       "      <td>37.29</td>\n",
       "      <td>60.61</td>\n",
       "      <td>2015</td>\n",
       "    </tr>\n",
       "  </tbody>\n",
       "</table>\n",
       "</div>"
      ],
      "text/plain": [
       "      world_rank                         institution country  national_rank  \\\n",
       "38            39  University of Washington - Seattle     USA             28   \n",
       "130           31  University of Washington - Seattle     USA             22   \n",
       "231           32  University of Washington - Seattle     USA             23   \n",
       "1230          31  University of Washington - Seattle     USA             23   \n",
       "\n",
       "      rank_for_education  rank_for_alumni_employment  rank_for_faculty  \\\n",
       "38                   101                         101                40   \n",
       "130                  101                         101                41   \n",
       "231                   89                         107                46   \n",
       "1230                  48                         103                41   \n",
       "\n",
       "      rank_for_publications  rank_for_influence  rank_for_number_of_students  \\\n",
       "38                        5                   7                            5   \n",
       "130                       7                   8                            5   \n",
       "231                       9                  11                            8   \n",
       "1230                      9                  10                           10   \n",
       "\n",
       "      rank_for_patents  average_rank  score  year  \n",
       "38                 101         51.43  52.25  2012  \n",
       "130                 51         44.86  55.79  2013  \n",
       "231                 54         46.29  60.28  2014  \n",
       "1230                40         37.29  60.61  2015  "
      ]
     },
     "execution_count": 15,
     "metadata": {},
     "output_type": "execute_result"
    }
   ],
   "source": [
    "df_sub"
   ]
  },
  {
   "cell_type": "code",
   "execution_count": 17,
   "id": "5f5bab8f-f2e4-408f-b7cd-c752db3f598b",
   "metadata": {},
   "outputs": [],
   "source": [
    "df_sub = df_sub.drop(columns = ['institution', 'country', 'national_rank', 'rank_for_education', 'rank_for_alumni_employment', 'rank_for_faculty', 'rank_for_publications', 'rank_for_influence', 'rank_for_number_of_students', 'rank_for_patents', 'average_rank', 'score'])"
   ]
  },
  {
   "cell_type": "code",
   "execution_count": 19,
   "id": "363fae91-4ca5-4142-912f-2f86db8311fb",
   "metadata": {},
   "outputs": [
    {
     "data": {
      "text/html": [
       "<div>\n",
       "<style scoped>\n",
       "    .dataframe tbody tr th:only-of-type {\n",
       "        vertical-align: middle;\n",
       "    }\n",
       "\n",
       "    .dataframe tbody tr th {\n",
       "        vertical-align: top;\n",
       "    }\n",
       "\n",
       "    .dataframe thead th {\n",
       "        text-align: right;\n",
       "    }\n",
       "</style>\n",
       "<table border=\"1\" class=\"dataframe\">\n",
       "  <thead>\n",
       "    <tr style=\"text-align: right;\">\n",
       "      <th></th>\n",
       "      <th>world_rank</th>\n",
       "      <th>year</th>\n",
       "    </tr>\n",
       "  </thead>\n",
       "  <tbody>\n",
       "    <tr>\n",
       "      <th>38</th>\n",
       "      <td>39</td>\n",
       "      <td>2012</td>\n",
       "    </tr>\n",
       "    <tr>\n",
       "      <th>130</th>\n",
       "      <td>31</td>\n",
       "      <td>2013</td>\n",
       "    </tr>\n",
       "    <tr>\n",
       "      <th>231</th>\n",
       "      <td>32</td>\n",
       "      <td>2014</td>\n",
       "    </tr>\n",
       "    <tr>\n",
       "      <th>1230</th>\n",
       "      <td>31</td>\n",
       "      <td>2015</td>\n",
       "    </tr>\n",
       "  </tbody>\n",
       "</table>\n",
       "</div>"
      ],
      "text/plain": [
       "      world_rank  year\n",
       "38            39  2012\n",
       "130           31  2013\n",
       "231           32  2014\n",
       "1230          31  2015"
      ]
     },
     "execution_count": 19,
     "metadata": {},
     "output_type": "execute_result"
    }
   ],
   "source": [
    "df_sub"
   ]
  },
  {
   "cell_type": "code",
   "execution_count": 25,
   "id": "0479b7c2-12d8-4bfe-945b-15403bf96a83",
   "metadata": {},
   "outputs": [
    {
     "data": {
      "text/plain": [
       "world_rank    int64\n",
       "year          int64\n",
       "dtype: object"
      ]
     },
     "execution_count": 25,
     "metadata": {},
     "output_type": "execute_result"
    }
   ],
   "source": [
    "df_sub.dtypes"
   ]
  },
  {
   "cell_type": "code",
   "execution_count": 27,
   "id": "b1d1e7af-286c-4ad3-b574-a1afb4efc965",
   "metadata": {},
   "outputs": [],
   "source": [
    "df_sub['year'] = df_sub['year'].astype('str')"
   ]
  },
  {
   "cell_type": "code",
   "execution_count": 29,
   "id": "24449070-060b-4d9a-975f-48a995519bf1",
   "metadata": {},
   "outputs": [
    {
     "data": {
      "text/plain": [
       "world_rank     int64\n",
       "year          object\n",
       "dtype: object"
      ]
     },
     "execution_count": 29,
     "metadata": {},
     "output_type": "execute_result"
    }
   ],
   "source": [
    "df_sub.dtypes"
   ]
  },
  {
   "cell_type": "code",
   "execution_count": 31,
   "id": "e233903e-c3f4-42f4-962c-41790e35b921",
   "metadata": {},
   "outputs": [],
   "source": [
    "from datetime import datetime\n",
    "\n",
    "df_sub['datetime'] = pd.to_datetime(df_sub['year'])\n",
    "df_sub = df_sub.set_index('datetime')\n",
    "df_sub.drop(['year'], axis=1, inplace=True)"
   ]
  },
  {
   "cell_type": "code",
   "execution_count": 33,
   "id": "0cf1e72b-0a04-4e94-b13c-10869a06e317",
   "metadata": {},
   "outputs": [
    {
     "data": {
      "text/html": [
       "<div>\n",
       "<style scoped>\n",
       "    .dataframe tbody tr th:only-of-type {\n",
       "        vertical-align: middle;\n",
       "    }\n",
       "\n",
       "    .dataframe tbody tr th {\n",
       "        vertical-align: top;\n",
       "    }\n",
       "\n",
       "    .dataframe thead th {\n",
       "        text-align: right;\n",
       "    }\n",
       "</style>\n",
       "<table border=\"1\" class=\"dataframe\">\n",
       "  <thead>\n",
       "    <tr style=\"text-align: right;\">\n",
       "      <th></th>\n",
       "      <th>world_rank</th>\n",
       "    </tr>\n",
       "    <tr>\n",
       "      <th>datetime</th>\n",
       "      <th></th>\n",
       "    </tr>\n",
       "  </thead>\n",
       "  <tbody>\n",
       "    <tr>\n",
       "      <th>2012-01-01</th>\n",
       "      <td>39</td>\n",
       "    </tr>\n",
       "    <tr>\n",
       "      <th>2013-01-01</th>\n",
       "      <td>31</td>\n",
       "    </tr>\n",
       "    <tr>\n",
       "      <th>2014-01-01</th>\n",
       "      <td>32</td>\n",
       "    </tr>\n",
       "    <tr>\n",
       "      <th>2015-01-01</th>\n",
       "      <td>31</td>\n",
       "    </tr>\n",
       "  </tbody>\n",
       "</table>\n",
       "</div>"
      ],
      "text/plain": [
       "            world_rank\n",
       "datetime              \n",
       "2012-01-01          39\n",
       "2013-01-01          31\n",
       "2014-01-01          32\n",
       "2015-01-01          31"
      ]
     },
     "execution_count": 33,
     "metadata": {},
     "output_type": "execute_result"
    }
   ],
   "source": [
    "df_sub"
   ]
  },
  {
   "cell_type": "code",
   "execution_count": 35,
   "id": "5185d306-1dec-4dce-ab58-5f74f4906c49",
   "metadata": {},
   "outputs": [],
   "source": [
    "df_sub.rename(columns = {'world_rank' : 'University of Washington World Rank'}, inplace = True)"
   ]
  },
  {
   "cell_type": "code",
   "execution_count": 37,
   "id": "9a276679-775d-4199-8849-bae686bb4f08",
   "metadata": {},
   "outputs": [
    {
     "data": {
      "text/html": [
       "<div>\n",
       "<style scoped>\n",
       "    .dataframe tbody tr th:only-of-type {\n",
       "        vertical-align: middle;\n",
       "    }\n",
       "\n",
       "    .dataframe tbody tr th {\n",
       "        vertical-align: top;\n",
       "    }\n",
       "\n",
       "    .dataframe thead th {\n",
       "        text-align: right;\n",
       "    }\n",
       "</style>\n",
       "<table border=\"1\" class=\"dataframe\">\n",
       "  <thead>\n",
       "    <tr style=\"text-align: right;\">\n",
       "      <th></th>\n",
       "      <th>University of Washington World Rank</th>\n",
       "    </tr>\n",
       "    <tr>\n",
       "      <th>datetime</th>\n",
       "      <th></th>\n",
       "    </tr>\n",
       "  </thead>\n",
       "  <tbody>\n",
       "    <tr>\n",
       "      <th>2012-01-01</th>\n",
       "      <td>39</td>\n",
       "    </tr>\n",
       "    <tr>\n",
       "      <th>2013-01-01</th>\n",
       "      <td>31</td>\n",
       "    </tr>\n",
       "    <tr>\n",
       "      <th>2014-01-01</th>\n",
       "      <td>32</td>\n",
       "    </tr>\n",
       "    <tr>\n",
       "      <th>2015-01-01</th>\n",
       "      <td>31</td>\n",
       "    </tr>\n",
       "  </tbody>\n",
       "</table>\n",
       "</div>"
      ],
      "text/plain": [
       "            University of Washington World Rank\n",
       "datetime                                       \n",
       "2012-01-01                                   39\n",
       "2013-01-01                                   31\n",
       "2014-01-01                                   32\n",
       "2015-01-01                                   31"
      ]
     },
     "execution_count": 37,
     "metadata": {},
     "output_type": "execute_result"
    }
   ],
   "source": [
    "df_sub"
   ]
  },
  {
   "cell_type": "markdown",
   "id": "3d4356af-3e6e-4c8c-ac47-49dafa3f5ed3",
   "metadata": {},
   "source": [
    "Because I could only use one veriable for this time series I decided to look at the University of Washington's world ranks because I wanted a university that had ranks for all 4 years, and I only live an hour drive away from Seattle."
   ]
  },
  {
   "cell_type": "markdown",
   "id": "807cb8ed-bb0b-4923-a193-4db37ac6cf0e",
   "metadata": {},
   "source": [
    " "
   ]
  },
  {
   "cell_type": "markdown",
   "id": "202d2a57-b829-4148-9d67-36e840acd27f",
   "metadata": {},
   "source": [
    "## Part 4"
   ]
  },
  {
   "cell_type": "code",
   "execution_count": 42,
   "id": "90f5da43-8e9d-40db-b1fa-3ed997f000fd",
   "metadata": {},
   "outputs": [
    {
     "data": {
      "text/plain": [
       "[<matplotlib.lines.Line2D at 0x1609f401100>]"
      ]
     },
     "execution_count": 42,
     "metadata": {},
     "output_type": "execute_result"
    },
    {
     "data": {
      "image/png": "[encoded data removed]",
      "text/plain": [
       "<Figure size 1500x500 with 1 Axes>"
      ]
     },
     "metadata": {},
     "output_type": "display_data"
    }
   ],
   "source": [
    "# Ploting the new data set\n",
    "plt.figure(figsize=(15,5), dpi=100)\n",
    "plt.plot(df_sub)"
   ]
  },
  {
   "cell_type": "markdown",
   "id": "ebc5f9ac-9ae5-4c8c-8bb5-6bbfb1af808e",
   "metadata": {},
   "source": [
    " "
   ]
  },
  {
   "cell_type": "markdown",
   "id": "980e93fa-7f0d-455c-a6d1-1de40b87893c",
   "metadata": {},
   "source": [
    "## Part 5"
   ]
  },
  {
   "cell_type": "code",
   "execution_count": 46,
   "id": "863c35c8-0814-4fbf-baa5-dbb3f9a5abba",
   "metadata": {},
   "outputs": [],
   "source": [
    "# Decompose the time series\n",
    "decomposition = sm.tsa.seasonal_decompose(df_sub, model = 'multiplicative')"
   ]
  },
  {
   "cell_type": "code",
   "execution_count": 48,
   "id": "da8712e0-7ab2-4aa8-a42f-4455eb018f5d",
   "metadata": {},
   "outputs": [],
   "source": [
    "from pylab import rcParams\n",
    "rcParams['figure.figsize'] = 18, 7"
   ]
  },
  {
   "cell_type": "code",
   "execution_count": 50,
   "id": "b85b99c2-dd2b-4a4f-8054-2c279d12b55e",
   "metadata": {},
   "outputs": [
    {
     "data": {
      "image/png": "[encoded data removed]",
      "text/plain": [
       "<Figure size 1800x700 with 4 Axes>"
      ]
     },
     "metadata": {},
     "output_type": "display_data"
    }
   ],
   "source": [
    "decomposition.plot()\n",
    "plt.show()"
   ]
  },
  {
   "cell_type": "markdown",
   "id": "db641c39-b598-43cc-8923-a31d2d3f444b",
   "metadata": {},
   "source": [
    "Considering that the data I have only has 4 time based data points, I knew that this time series wasn't going to be that affective. There is no seasonality because the data is collected annually. And you can't analyze anything from the resid graph."
   ]
  },
  {
   "cell_type": "markdown",
   "id": "13afdcf6-aa71-46ba-9f1a-d174ba10707c",
   "metadata": {},
   "source": [
    " "
   ]
  },
  {
   "cell_type": "markdown",
   "id": "034657b4-760f-4967-8e5c-3d54e0a4c400",
   "metadata": {},
   "source": [
    "## Part 6"
   ]
  },
  {
   "cell_type": "code",
   "execution_count": 57,
   "id": "53e8ae1a-338c-49db-96d0-9f8dceec4d3e",
   "metadata": {},
   "outputs": [
    {
     "name": "stdout",
     "output_type": "stream",
     "text": [
      "Dickey-Fuller Stationarity test:\n",
      "Test Statistic                -1.014487e+01\n",
      "p-value                        8.236430e-18\n",
      "Number of Lags Used            0.000000e+00\n",
      "Number of Observations Used    3.000000e+00\n",
      "Critical Value (1%)           -1.041719e+01\n",
      "Critical Value (5%)           -5.778381e+00\n",
      "Critical Value (10%)          -3.391681e+00\n",
      "dtype: float64\n"
     ]
    }
   ],
   "source": [
    "from statsmodels.tsa.stattools import adfuller\n",
    "\n",
    "def dickey_fuller(timeseries):\n",
    "    # Perform the Dickey-Fuller test:\n",
    "    print ('Dickey-Fuller Stationarity test:')\n",
    "    test = adfuller(timeseries, autolag='AIC')\n",
    "    result = pd.Series(test[0:4], index=['Test Statistic','p-value','Number of Lags Used','Number of Observations Used'])\n",
    "    for key,value in test[4].items():\n",
    "       result['Critical Value (%s)'%key] = value\n",
    "    print (result)\n",
    "\n",
    "dickey_fuller(df_sub['University of Washington World Rank'])"
   ]
  },
  {
   "cell_type": "markdown",
   "id": "03fafacd-d332-4013-8225-e3686ea86f7e",
   "metadata": {},
   "source": [
    "The test statistic is smaller than the 5% and 10% critical values, and the p-value is less than 0.05.\n",
    "\n",
    "Even though it doesn't look like it in the line chart, the stationarity tests say that the data is stationary. Probably because of the small amount of time based data points I'm working with."
   ]
  },
  {
   "cell_type": "markdown",
   "id": "804d8704-06f1-4dca-8478-3fd15030fe9d",
   "metadata": {},
   "source": [
    " "
   ]
  },
  {
   "cell_type": "markdown",
   "id": "36a87cd2-50c3-4795-aab8-a50453b11623",
   "metadata": {},
   "source": [
    "## Part 9"
   ]
  },
  {
   "cell_type": "code",
   "execution_count": 86,
   "id": "bec19c2e-0946-45b2-8411-f5d3befddcd9",
   "metadata": {},
   "outputs": [
    {
     "data": {
      "image/png": "[encoded data removed]",
      "text/plain": [
       "<Figure size 1800x700 with 1 Axes>"
      ]
     },
     "metadata": {},
     "output_type": "display_data"
    }
   ],
   "source": [
    "from statsmodels.graphics.tsaplots import plot_acf, plot_pacf\n",
    "\n",
    "plot_acf(df_sub)\n",
    "plt.show()"
   ]
  },
  {
   "cell_type": "code",
   "execution_count": null,
   "id": "1627c72e-cba8-4cbf-ab3c-4b9f992359d7",
   "metadata": {},
   "outputs": [],
   "source": []
  }
 ],
 "metadata": {
  "kernelspec": {
   "display_name": "Python [conda env:base] *",
   "language": "python",
   "name": "conda-base-py"
  },
  "language_info": {
   "codemirror_mode": {
    "name": "ipython",
    "version": 3
   },
   "file_extension": ".py",
   "mimetype": "text/x-python",
   "name": "python",
   "nbconvert_exporter": "python",
   "pygments_lexer": "ipython3",
   "version": "3.12.7"
  }
 },
 "nbformat": 4,
 "nbformat_minor": 5
}
